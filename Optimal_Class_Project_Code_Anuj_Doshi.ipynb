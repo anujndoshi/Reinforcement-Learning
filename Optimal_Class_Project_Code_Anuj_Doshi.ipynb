{
 "cells": [
  {
   "cell_type": "markdown",
   "metadata": {},
   "source": [
    "# ME-GY 7973 - Optimal and Learning Control for Robots- Class Project.\n",
    "### Implementation of Double Deep Q-Network with Prioritized Replay.\n",
    "### Anuj Doshi - N12606488\n"
   ]
  },
  {
   "cell_type": "markdown",
   "metadata": {},
   "source": [
    "This is a typical RL problem that involes an \\textbf{Agent} , interacting with an \\textbf{Environment} with a goal of selecting the \\textbf{actions} that will maximize its long term \\textbf{reward}, for each episode of interaction with its environment.\n",
    "\n",
    "In our code, we will run the \\textbf{DQN algorithm with prioritized experience}. \\\n",
    "The code proceeds according to the algorightm presented in the attached report. A detailed understanding of flow can be seen in the report. Over here, we will briefly see that:\n",
    "\\begin{itemize}\n",
    "\\item We will load all required libraries\n",
    "\\item We will make a class for the Q network which will contain two nueral netwoks, local and target. The local network will update target network as per set intervals.\n",
    "\\item We generate another class that will generate a replay buffer to hold previous experiences. This will help us in prioritizing useful experiences and play them first.\n",
    "\\item We then make a class for the Agent, which in our case is a Double DQN agent. As seen in the report, having only one Q network can have trouble when updating values in the model of the current state as that will instantaneously change Q values in the next state, which gets cyclic. So to avoid this we use a Double DQN agent where we have two networks and a Double DQN Agent. This is also very crucial to avoid overestimatation of the Q -values for a random start. Kindly refer to report for further theory on this. \n",
    "\\item With all the objects, function and variables in place, we load the OpenAI gym enironment and make the agent interact with it and plot the rewards per episode.\n",
    "\\end{itemize}\n",
    "\n"
   ]
  },
  {
   "cell_type": "code",
   "execution_count": 1,
   "metadata": {
    "colab": {
     "base_uri": "https://localhost:8080/",
     "height": 51
    },
    "colab_type": "code",
    "id": "HnA-Zf8JqsL4",
    "outputId": "70062eee-0733-4f72-b717-2aeec3d927b9"
   },
   "outputs": [],
   "source": [
    "#Here we import all the necesarry libraries \n",
    "import gym\n",
    "import random\n",
    "import numpy as np"
   ]
  },
  {
   "cell_type": "markdown",
   "metadata": {},
   "source": [
    "##### Due to some errors encounterd in Tensorflow v2 we will be running our code on v1.\n",
    "I have also added a check that will run the code on v1 for systems that have v2.\n",
    "Incase there is any error kindly, run this to install tensorflow version 1.3.1 (very stable). \\\n",
    "\n",
    "!pip install tensorflow==1.3.1 \\\n",
    "\n",
    "Incase a warning error raises, kindly avoid and move ahead with the code."
   ]
  },
  {
   "cell_type": "code",
   "execution_count": 2,
   "metadata": {},
   "outputs": [
    {
     "name": "stderr",
     "output_type": "stream",
     "text": [
      "/Users/anuj/opt/anaconda3/lib/python3.7/site-packages/tensorflow/python/framework/dtypes.py:526: FutureWarning: Passing (type, 1) or '1type' as a synonym of type is deprecated; in a future version of numpy, it will be understood as (type, (1,)) / '(1,)type'.\n",
      "  _np_qint8 = np.dtype([(\"qint8\", np.int8, 1)])\n",
      "/Users/anuj/opt/anaconda3/lib/python3.7/site-packages/tensorflow/python/framework/dtypes.py:527: FutureWarning: Passing (type, 1) or '1type' as a synonym of type is deprecated; in a future version of numpy, it will be understood as (type, (1,)) / '(1,)type'.\n",
      "  _np_quint8 = np.dtype([(\"quint8\", np.uint8, 1)])\n",
      "/Users/anuj/opt/anaconda3/lib/python3.7/site-packages/tensorflow/python/framework/dtypes.py:528: FutureWarning: Passing (type, 1) or '1type' as a synonym of type is deprecated; in a future version of numpy, it will be understood as (type, (1,)) / '(1,)type'.\n",
      "  _np_qint16 = np.dtype([(\"qint16\", np.int16, 1)])\n",
      "/Users/anuj/opt/anaconda3/lib/python3.7/site-packages/tensorflow/python/framework/dtypes.py:529: FutureWarning: Passing (type, 1) or '1type' as a synonym of type is deprecated; in a future version of numpy, it will be understood as (type, (1,)) / '(1,)type'.\n",
      "  _np_quint16 = np.dtype([(\"quint16\", np.uint16, 1)])\n",
      "/Users/anuj/opt/anaconda3/lib/python3.7/site-packages/tensorflow/python/framework/dtypes.py:530: FutureWarning: Passing (type, 1) or '1type' as a synonym of type is deprecated; in a future version of numpy, it will be understood as (type, (1,)) / '(1,)type'.\n",
      "  _np_qint32 = np.dtype([(\"qint32\", np.int32, 1)])\n",
      "/Users/anuj/opt/anaconda3/lib/python3.7/site-packages/tensorflow/python/framework/dtypes.py:535: FutureWarning: Passing (type, 1) or '1type' as a synonym of type is deprecated; in a future version of numpy, it will be understood as (type, (1,)) / '(1,)type'.\n",
      "  np_resource = np.dtype([(\"resource\", np.ubyte, 1)])\n"
     ]
    },
    {
     "name": "stdout",
     "output_type": "stream",
     "text": [
      "WARNING:tensorflow:From /Users/anuj/opt/anaconda3/lib/python3.7/site-packages/tensorflow/python/compat/compat.py:175: disable_resource_variables (from tensorflow.python.ops.variable_scope) is deprecated and will be removed in a future version.\n",
      "Instructions for updating:\n",
      "non-resource variables are not supported in the long term\n"
     ]
    }
   ],
   "source": [
    "## In case of error Run this to install tensorflow version 1.3.1\n",
    "# !pip install tensorflow==1.3.1\n",
    "\n",
    "import tensorflow as tf\n",
    "import tensorflow.compat.v1 as tf\n",
    "tf.disable_v2_behavior()\n",
    "import tensorflow.nn as nn \n",
    "from tensorflow.python.framework import ops\n",
    "from collections import deque\n",
    "#import wandb                                #This was only used for testing.\n",
    "import matplotlib.pyplot as plt\n",
    "#from IPython.display import HTML\n",
    "from gym import wrappers\n",
    "# from tqdm import tdqm                      #Only used for testing.\n",
    "# print(\"Gym:\", gym.__version__)\n",
    "#print(\"Tensorflow:\", tf.__version__)"
   ]
  },
  {
   "cell_type": "code",
   "execution_count": 3,
   "metadata": {
    "colab": {},
    "colab_type": "code",
    "id": "79GCjcYYqsMG"
   },
   "outputs": [],
   "source": [
    "class QNetwork():\n",
    "    \"\"\"This class forms the Q-network for the algorithm.\n",
    "    We take in the state dimensions, action size from the enironment and initalize\n",
    "    them as tensors. \n",
    "    We then build the local and target nueral networks. Run the networks to get the loss functions\n",
    "    and then optimize it. \n",
    "    We update the target model as per the algorithm using a factor Tau which we take as input.\n",
    "    \"\"\"\n",
    "    def __init__(self, state_dim, action_size, tau=0.01):\n",
    "        \"\"\"We initailize the class in this function. All tensor values are held as placeholders.\n",
    "        Once we have the action inputs and size, we perform one-hot coding to select \n",
    "        one action index for the state. \"\"\"\n",
    "        \n",
    "        ops.reset_default_graph()\n",
    "        self.state_in = tf.placeholder(tf.float32, shape=[None, *state_dim])\n",
    "        self.action_in = tf.placeholder(tf.int32)\n",
    "        self.q_target_in = tf.placeholder(tf.float32)\n",
    "        self.importance_in = tf.placeholder(tf.float32)\n",
    "        action_one_hot = tf.one_hot(self.action_in, depth=action_size)\n",
    "        \n",
    "        #We use the NN_builder function to make two similar networks for local and target variables.\n",
    "        self.q_state_local = self.NN_builder(action_size, \"local\")\n",
    "        self.q_state_target = self.NN_builder(action_size, \"target\")\n",
    "        \n",
    "        \n",
    "        #After taking desired Q value we find the error and MSE. We optimize the loss with use of the NN.\n",
    "        self.q_state_action = tf.reduce_sum(tf.multiply(self.q_state_local, action_one_hot), axis=1)\n",
    "        self.error = self.q_state_action - self.q_target_in\n",
    "        self.loss = tf.reduce_mean(tf.multiply(tf.square(self.error), self.importance_in))\n",
    "        self.optimizer = tf.train.AdamOptimizer(learning_rate=0.001).minimize(self.loss)\n",
    "        \n",
    "     \n",
    "        #Here we access the seperate weights and biases for individual networks.\n",
    "        #We make sure to only get the training variables.\n",
    "        self.Local_Variables = tf.get_collection(tf.GraphKeys.TRAINABLE_VARIABLES, scope=\"local\")\n",
    "        self.TargetVariables = tf.get_collection(tf.GraphKeys.TRAINABLE_VARIABLES, scope=\"target\")\n",
    "        \n",
    "        # We update the target network variables with corresponding local network variable\n",
    "        self.updater = tf.group([tf.assign(t, t + tau*(l-t)) for t,l in zip(self.TargetVariables, self.Local_Variables)])\n",
    "        \n",
    "    def NN_builder(self, action_size, scope):\n",
    "        \"\"\"This function is used to generate a network given the action size and scope of the network.\n",
    "        Having declared a scope helps us in storing respective variable in their scopes i.e. local or target.\n",
    "        We can also add mulitple layer as shown below and tune the parameters of the model very easily.\n",
    "        \n",
    "        The Activation function chosen here is elu after a lot of trial and error with other functions. \n",
    "        \"\"\"\n",
    "        \n",
    "        with tf.variable_scope(scope):\n",
    "            hidden1 = tf.layers.dense(self.state_in, 256, activation=tf.nn.elu)\n",
    "            #hidden2 = tf.layers.dense(hidden1, 100, activation=tf.nn.elu)\n",
    "            #hidden3 = tf.layers.dense(hidden2, 100, activation=tf.nn.elu)\n",
    "            q_state = tf.layers.dense(hidden1, action_size, activation=None)\n",
    "            return q_state\n",
    "        \n",
    "    def update_model(self, session, state, action, q_target, importance):\n",
    "        #Funciton is used to get the error as per the algorithm.\n",
    "        feed = {self.state_in: state, self.action_in: action, self.q_target_in: q_target, self.importance_in: importance}\n",
    "        error, _, _ = session.run([self.error, self.optimizer, self.updater], feed_dict=feed)\n",
    "        return error\n",
    "        \n",
    "    def get_q_state(self, session, state, use_target=False):\n",
    "        #Gets q_states for corresponding network. For trial we give a boolean to use_target to\n",
    "        #check the difference. \n",
    "        q_state_op = self.q_state_target if use_target else self.q_state_local\n",
    "        q_state = session.run(q_state_op, feed_dict={self.state_in: state})\n",
    "        return q_state"
   ]
  },
  {
   "cell_type": "code",
   "execution_count": 4,
   "metadata": {
    "colab": {},
    "colab_type": "code",
    "id": "EYKcRk3ZqsMJ"
   },
   "outputs": [],
   "source": [
    "class Prioritized_Experience_Replay():\n",
    "    \"\"\"This class is used to generate the replay buffer and prioritize experiences from it \n",
    "    as given in the algorithm. We use the Deque collection as the rolling buffer for experience tuples. \n",
    "    The theory behind generation of priorities can be seen in the report.\"\"\"\n",
    "    \n",
    "    def __init__(self, maxlen):\n",
    "        self.buffer = deque(maxlen=maxlen)\n",
    "        self.priorities = deque(maxlen=maxlen)\n",
    "        \n",
    "    def store(self, experience):\n",
    "        #This function stores new experiences in the buffer\n",
    "        self.buffer.append(experience)\n",
    "        self.priorities.append(max(self.priorities, default=1))\n",
    "        \n",
    "    def get_probabilities(self, priority_scale):\n",
    "        #Calculating probability of one experience taking place over the others. \n",
    "        scaled_priorities = np.array(self.priorities) ** priority_scale\n",
    "        sample_probabilities = scaled_priorities / sum(scaled_priorities)\n",
    "        return sample_probabilities\n",
    "    \n",
    "    def Annealing_Bias(self, probabilities):\n",
    "        #This refers to the Annealing the bias part of the algorithm as mentioned in the report.\n",
    "        #This is useful overcoming the bias that prioritized buffer adds. \n",
    "        importance = 1/len(self.buffer) * 1/probabilities\n",
    "        importance_normalized = importance / max(importance)\n",
    "        return importance_normalized\n",
    "        \n",
    "    def sample(self, batch_size, priority_scale=1.0):\n",
    "        sample_size = min(len(self.buffer), batch_size)\n",
    "        sample_probs = self.get_probabilities(priority_scale)\n",
    "        sample_indices = random.choices(range(len(self.buffer)), k=sample_size, weights=sample_probs)\n",
    "        samples = np.array(self.buffer)[sample_indices]\n",
    "        importance = self.Annealing_Bias(sample_probs[sample_indices])\n",
    "        return map(list, zip(*samples)), importance, sample_indices\n",
    "    \n",
    "    def set_priorities(self, indices, errors, offset=0.1):\n",
    "        #Makes sure that priorities dont go to 0 by adding an offset.\n",
    "        for i,e in zip(indices, errors):\n",
    "            self.priorities[i] = abs(e) + offset"
   ]
  },
  {
   "cell_type": "code",
   "execution_count": 5,
   "metadata": {
    "colab": {},
    "colab_type": "code",
    "id": "XKIXlcQSqsMN"
   },
   "outputs": [],
   "source": [
    "class DoubleDQNAgent():\n",
    "    \"\"\"This class forms of the agent that interacts with the environment.\n",
    "    This calls the other classes and sends and input to the environment in\n",
    "    order to get to the next time step in an episode.\n",
    "    \n",
    "    We intialise all the variables and hyperparameters and start with random \n",
    "    interaction with the environment.\n",
    "    \n",
    "    The agent then slowly trains and learns to find a good solution and \n",
    "    as an when epislon reduces, it exploits that solution.\n",
    "    \"\"\"\n",
    "    def __init__(self, env):\n",
    "        \"This function store the values in the locally for the class.\"\n",
    "        self.state_dim = env.observation_space.shape\n",
    "        self.action_size = env.action_space.n\n",
    "        self.q_network = QNetwork(self.state_dim, self.action_size)\n",
    "        self.replay_buffer = Prioritized_Experience_Replay(maxlen=100000)\n",
    "        self.gamma = 0.97\n",
    "        self.eps = 1.0\n",
    "        #Starts the sessions.\n",
    "        self.sess = tf.Session()\n",
    "        self.sess.run(tf.global_variables_initializer())\n",
    "        \n",
    "    def get_action(self, state):\n",
    "        \"\"\"Makes selection between greedy action or random action depending on the\n",
    "        epsilon value.\"\"\"\n",
    "        q_state = self.q_network.get_q_state(self.sess, [state])\n",
    "        action_EpsG = np.argmax(q_state)\n",
    "        action_random = np.random.randint(self.action_size)\n",
    "        action = action_random if random.random() < self.eps else action_EpsG\n",
    "        return action\n",
    "    \n",
    "    def train(self, state, action, next_state, reward, done, use_DDQN=True, a=0.0):\n",
    "        #This function is used to train the agent according to all the inputs.\n",
    "        # for the update to the final model it uses the \n",
    "        #Bellman equation: Q(s_t , a_t) = reward_(t+1) + discount rate (gamma) * max(Q(s_(t+1)))\n",
    "        #We also constantly keep track of the errors.\n",
    "        self.replay_buffer.store((state, action, next_state, reward, done))\n",
    "        (states, actions, next_states, rewards, dones), importance, indices = self.replay_buffer.sample(50, priority_scale=a)\n",
    "        next_actions = np.argmax(self.q_network.get_q_state(self.sess, next_states, use_target=False), axis=1)\n",
    "        q_next_states = self.q_network.get_q_state(self.sess, next_states, use_target=use_DDQN)\n",
    "        q_next_states[dones] = np.zeros([self.action_size])\n",
    "        q_next_states_next_actions = q_next_states[np.arange(next_actions.shape[0]), next_actions]\n",
    "        q_targets = rewards + self.gamma * q_next_states_next_actions\n",
    "        errors = self.q_network.update_model(self.sess, states, actions, q_targets, importance**(1-self.eps))\n",
    "        \n",
    "        self.replay_buffer.set_priorities(indices, errors)\n",
    "        \n",
    "        if done: self.eps = max(0.1, 0.99*self.eps)\n",
    "    \n",
    "    def __del__(self):\n",
    "    \n",
    "        #Ends the sessions.\n",
    "        self.sess.close()"
   ]
  },
  {
   "cell_type": "code",
   "execution_count": 6,
   "metadata": {
    "colab": {
     "base_uri": "https://localhost:8080/",
     "height": 187
    },
    "colab_type": "code",
    "id": "zv9Amjj4qsMQ",
    "outputId": "3e61344f-d87a-41e6-d28c-4ca3511ef4df"
   },
   "outputs": [
    {
     "name": "stdout",
     "output_type": "stream",
     "text": [
      "WARNING:tensorflow:From <ipython-input-3-9a32b103de38>:50: dense (from tensorflow.python.layers.core) is deprecated and will be removed in a future version.\n",
      "Instructions for updating:\n",
      "Use keras.layers.dense instead.\n",
      "WARNING:tensorflow:From /Users/anuj/opt/anaconda3/lib/python3.7/site-packages/tensorflow/python/framework/op_def_library.py:263: colocate_with (from tensorflow.python.framework.ops) is deprecated and will be removed in a future version.\n",
      "Instructions for updating:\n",
      "Colocations handled automatically by placer.\n",
      "WARNING:tensorflow:From /Users/anuj/opt/anaconda3/lib/python3.7/site-packages/tensorflow/python/ops/math_ops.py:3066: to_int32 (from tensorflow.python.ops.math_ops) is deprecated and will be removed in a future version.\n",
      "Instructions for updating:\n",
      "Use tf.cast instead.\n",
      "Episode:  0 total_reward: -500.0\n",
      "Episode:  1 total_reward: -500.0\n",
      "Episode:  2 total_reward: -500.0\n",
      "Episode:  3 total_reward: -433.0\n",
      "Episode:  4 total_reward: -500.0\n",
      "Episode:  5 total_reward: -500.0\n",
      "Episode:  6 total_reward: -500.0\n",
      "Episode:  7 total_reward: -500.0\n",
      "Episode:  8 total_reward: -500.0\n",
      "Episode:  9 total_reward: -500.0\n",
      "Episode:  10 total_reward: -500.0\n",
      "Episode:  11 total_reward: -500.0\n",
      "Episode:  12 total_reward: -500.0\n",
      "Episode:  13 total_reward: -360.0\n",
      "Episode:  14 total_reward: -500.0\n",
      "Episode:  15 total_reward: -500.0\n",
      "Episode:  16 total_reward: -415.0\n",
      "Episode:  17 total_reward: -286.0\n",
      "Episode:  18 total_reward: -373.0\n",
      "Episode:  19 total_reward: -500.0\n",
      "Episode:  20 total_reward: -500.0\n",
      "Episode:  21 total_reward: -436.0\n",
      "Episode:  22 total_reward: -492.0\n",
      "Episode:  23 total_reward: -291.0\n",
      "Episode:  24 total_reward: -260.0\n",
      "Episode:  25 total_reward: -311.0\n",
      "Episode:  26 total_reward: -350.0\n",
      "Episode:  27 total_reward: -324.0\n",
      "Episode:  28 total_reward: -281.0\n",
      "Episode:  29 total_reward: -355.0\n",
      "Episode:  30 total_reward: -485.0\n",
      "Episode:  31 total_reward: -336.0\n",
      "Episode:  32 total_reward: -239.0\n",
      "Episode:  33 total_reward: -312.0\n",
      "Episode:  34 total_reward: -412.0\n",
      "Episode:  35 total_reward: -407.0\n",
      "Episode:  36 total_reward: -299.0\n",
      "Episode:  37 total_reward: -283.0\n",
      "Episode:  38 total_reward: -247.0\n",
      "Episode:  39 total_reward: -282.0\n",
      "Episode:  40 total_reward: -226.0\n",
      "Episode:  41 total_reward: -291.0\n",
      "Episode:  42 total_reward: -188.0\n",
      "Episode:  43 total_reward: -211.0\n",
      "Episode:  44 total_reward: -217.0\n",
      "Episode:  45 total_reward: -292.0\n",
      "Episode:  46 total_reward: -150.0\n",
      "Episode:  47 total_reward: -384.0\n",
      "Episode:  48 total_reward: -251.0\n",
      "Episode:  49 total_reward: -222.0\n",
      "Episode:  50 total_reward: -231.0\n",
      "Episode:  51 total_reward: -169.0\n",
      "Episode:  52 total_reward: -249.0\n",
      "Episode:  53 total_reward: -227.0\n",
      "Episode:  54 total_reward: -198.0\n",
      "Episode:  55 total_reward: -189.0\n",
      "Episode:  56 total_reward: -259.0\n",
      "Episode:  57 total_reward: -158.0\n",
      "Episode:  58 total_reward: -179.0\n",
      "Episode:  59 total_reward: -116.0\n",
      "Episode:  60 total_reward: -248.0\n",
      "Episode:  61 total_reward: -161.0\n",
      "Episode:  62 total_reward: -256.0\n",
      "Episode:  63 total_reward: -189.0\n",
      "Episode:  64 total_reward: -142.0\n",
      "Episode:  65 total_reward: -223.0\n",
      "Episode:  66 total_reward: -151.0\n",
      "Episode:  67 total_reward: -500.0\n",
      "Episode:  68 total_reward: -195.0\n",
      "Episode:  69 total_reward: -101.0\n",
      "Episode:  70 total_reward: -200.0\n",
      "Episode:  71 total_reward: -167.0\n",
      "Episode:  72 total_reward: -176.0\n",
      "Episode:  73 total_reward: -133.0\n",
      "Episode:  74 total_reward: -139.0\n",
      "Episode:  75 total_reward: -172.0\n",
      "Episode:  76 total_reward: -210.0\n",
      "Episode:  77 total_reward: -113.0\n",
      "Episode:  78 total_reward: -115.0\n",
      "Episode:  79 total_reward: -150.0\n",
      "Episode:  80 total_reward: -130.0\n",
      "Episode:  81 total_reward: -96.0\n",
      "Episode:  82 total_reward: -184.0\n",
      "Episode:  83 total_reward: -197.0\n",
      "Episode:  84 total_reward: -174.0\n",
      "Episode:  85 total_reward: -139.0\n",
      "Episode:  86 total_reward: -206.0\n",
      "Episode:  87 total_reward: -125.0\n",
      "Episode:  88 total_reward: -144.0\n",
      "Episode:  89 total_reward: -130.0\n",
      "Episode:  90 total_reward: -144.0\n",
      "Episode:  91 total_reward: -116.0\n",
      "Episode:  92 total_reward: -136.0\n",
      "Episode:  93 total_reward: -144.0\n",
      "Episode:  94 total_reward: -123.0\n",
      "Episode:  95 total_reward: -135.0\n",
      "Episode:  96 total_reward: -109.0\n",
      "Episode:  97 total_reward: -125.0\n",
      "Episode:  98 total_reward: -132.0\n",
      "Episode:  99 total_reward: -122.0\n"
     ]
    }
   ],
   "source": [
    "\"\"\"After all the class declaration we finally load the environment here and test the algorithm out.\"\"\"\n",
    "#wandb.init(project=\"Optimal_Final\", name=\"DoubleDQN_Acrobot\")\n",
    "\n",
    "\n",
    "env_name = \"Acrobot-v1\"\n",
    "env = gym.make(env_name)\n",
    "#env = wrappers.Monitor(env, \"./gym-results\", force=True)\n",
    "#env.render()\n",
    "#env.reset()\n",
    "num_runs = 1\n",
    "run_rewards = []\n",
    "\n",
    "#Loop to run the environment.\n",
    "for n in range(num_runs):\n",
    "    #print(\"Run {}\".format(n))\n",
    "    current_episode_rewards = []\n",
    "    agent = None\n",
    "    agent = DoubleDQNAgent(env)\n",
    "    num_episodes = 100\n",
    "    step_num=0\n",
    "    for episode in range(num_episodes):\n",
    "        state = env.reset()\n",
    "        total_reward = 0\n",
    "        done = False\n",
    "   \n",
    "        while not done:\n",
    "            action = agent.get_action(state)\n",
    "            next_state, reward, done, info = env.step(action)\n",
    "            agent.train(state, action, next_state, reward, done, a=0.7)\n",
    "            env.render()\n",
    "            total_reward += reward\n",
    "            step_num+=1\n",
    "            state = next_state\n",
    "        #wandb.log({'eps':agent.eps, 'reward':total_reward}, step=step_num)\n",
    "        current_episode_rewards.append(total_reward)\n",
    "        print(\"Episode: \", episode, \"total_reward:\", total_reward)\n",
    "        #print(agent.eps) \n",
    "        #print(agent.q_network.loss)\n",
    "    run_rewards.append(current_episode_rewards)\n",
    "env.close()"
   ]
  },
  {
   "cell_type": "markdown",
   "metadata": {
    "colab": {
     "base_uri": "https://localhost:8080/",
     "height": 311
    },
    "colab_type": "code",
    "id": "JU1OmrO0uHpO",
    "outputId": "d8cb4c76-6112-4327-f334-6e9669e0b990"
   },
   "source": [
    "### Results\n",
    "As can be seen above, for trial purposes we try to run the algorithm for about 100. One trying for more episodes, even better reward is achieved. But due to extensive rendering and calculation time, we will limit it to 100. The Agent learns and tries to master the environment as the episodes increase."
   ]
  },
  {
   "cell_type": "code",
   "execution_count": 13,
   "metadata": {},
   "outputs": [
    {
     "name": "stdout",
     "output_type": "stream",
     "text": [
      "Average Score: -272.28\n",
      "Highest Reward:  -96.0\n"
     ]
    },
    {
     "data": {
      "image/png": "[encoded data removed]",
      "text/plain": [
       "<Figure size 432x288 with 1 Axes>"
      ]
     },
     "metadata": {
      "needs_background": "light"
     },
     "output_type": "display_data"
    }
   ],
   "source": [
    "print(\"Average Score:\",np.average(current_episode_rewards))\n",
    "plt.plot(current_episode_rewards)\n",
    "plt.xlabel(\"Number of Episodes\")\n",
    "plt.ylabel('Rewards')\n",
    "print(\"Highest Reward: \", max(run_rewards[0]))"
   ]
  }
 ],
 "metadata": {
  "colab": {
   "name": "PrioritizedExperienceReplayInOpenAIGym.ipynb",
   "provenance": [],
   "version": "0.3.2"
  },
  "kernelspec": {
   "display_name": "Python 3",
   "language": "python",
   "name": "python3"
  },
  "language_info": {
   "codemirror_mode": {
    "name": "ipython",
    "version": 3
   },
   "file_extension": ".py",
   "mimetype": "text/x-python",
   "name": "python",
   "nbconvert_exporter": "python",
   "pygments_lexer": "ipython3",
   "version": "3.7.6"
  },
  "latex_envs": {
   "LaTeX_envs_menu_present": true,
   "autoclose": false,
   "autocomplete": true,
   "bibliofile": "biblio.bib",
   "cite_by": "apalike",
   "current_citInitial": 1,
   "eqLabelWithNumbers": true,
   "eqNumInitial": 1,
   "hotkeys": {
    "equation": "Ctrl-E",
    "itemize": "Ctrl-I"
   },
   "labels_anchors": false,
   "latex_user_defs": false,
   "report_style_numbering": false,
   "user_envs_cfg": false
  },
  "toc": {
   "base_numbering": 1,
   "nav_menu": {},
   "number_sections": true,
   "sideBar": true,
   "skip_h1_title": false,
   "title_cell": "Table of Contents",
   "title_sidebar": "Contents",
   "toc_cell": false,
   "toc_position": {},
   "toc_section_display": true,
   "toc_window_display": false
  },
  "varInspector": {
   "cols": {
    "lenName": 16,
    "lenType": 16,
    "lenVar": 40
   },
   "kernels_config": {
    "python": {
     "delete_cmd_postfix": "",
     "delete_cmd_prefix": "del ",
     "library": "var_list.py",
     "varRefreshCmd": "print(var_dic_list())"
    },
    "r": {
     "delete_cmd_postfix": ") ",
     "delete_cmd_prefix": "rm(",
     "library": "var_list.r",
     "varRefreshCmd": "cat(var_dic_list()) "
    }
   },
   "types_to_exclude": [
    "module",
    "function",
    "builtin_function_or_method",
    "instance",
    "_Feature"
   ],
   "window_display": false
  }
 },
 "nbformat": 4,
 "nbformat_minor": 1
}
